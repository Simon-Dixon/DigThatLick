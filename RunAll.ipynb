{
 "cells": [
  {
   "cell_type": "code",
   "execution_count": null,
   "metadata": {},
   "outputs": [],
   "source": [
    "# Run Polina's code for 100 years of jazz\n",
    "\n",
    "#    Create an RDF repostory for JE with JEtoRDF_V6.py\n",
    "%run JEtoRDF_V6"
   ]
  },
  {
   "cell_type": "code",
   "execution_count": null,
   "metadata": {},
   "outputs": [],
   "source": [
    "#    add leaders to it with match_leaders.py\n",
    "exec(open('match_leaders.py').read(), {'PROPERTY_PREFIX': 'je'})"
   ]
  },
  {
   "cell_type": "code",
   "execution_count": null,
   "metadata": {},
   "outputs": [],
   "source": [
    "#    add fingerprints for JE with JE_add_short_fprints.py\n",
    "%run JE_add_short_fprints"
   ]
  },
  {
   "cell_type": "code",
   "execution_count": null,
   "metadata": {},
   "outputs": [],
   "source": [
    "#    create an RDF repository from the json files for the (subset of) Illinois dataset with Ill1000_2RDF.py\n",
    "#    (this is the slowest part, taking ~90 minutes on a good laptop)\n",
    "%run Ill1000_2RDF"
   ]
  },
  {
   "cell_type": "code",
   "execution_count": null,
   "metadata": {},
   "outputs": [],
   "source": [
    "#    add bands to the ILL repositor from the sql database with Ill1000_add_bands_from_sql.py. Download the sql database from OSF\n",
    "%run Ill1000_add_bands_from_sql"
   ]
  },
  {
   "cell_type": "code",
   "execution_count": null,
   "metadata": {},
   "outputs": [],
   "source": [
    "#    add leaders to the ILL repository with match_leaders.py\n",
    "exec(open('match_leaders.py').read(), {'PROPERTY_PREFIX': 'lord'})"
   ]
  },
  {
   "cell_type": "code",
   "execution_count": null,
   "metadata": {},
   "outputs": [],
   "source": [
    "#    For both JE and ILL (separately) repositories add DTL instrument labels with map_instruments.py\n",
    "exec(open('map_instruments.py').read(), {'PROPERTY_PREFIX': 'je'})\n",
    "exec(open('map_instruments.py').read(), {'PROPERTY_PREFIX': 'lord'})  # 'je', 'lord', 'orig'"
   ]
  },
  {
   "cell_type": "code",
   "execution_count": null,
   "metadata": {},
   "outputs": [],
   "source": [
    "#    add solos information for JE with JE1000_add_solos.py\n",
    "%run JE1000_add_solos"
   ]
  },
  {
   "cell_type": "code",
   "execution_count": null,
   "metadata": {},
   "outputs": [],
   "source": [
    "#    add solos for ILL with Ill1000_add_solos.py\n",
    "%run Ill1000_add_solos"
   ]
  },
  {
   "cell_type": "code",
   "execution_count": null,
   "metadata": {},
   "outputs": [],
   "source": [
    "#    add styles with add_styles.py\n",
    "exec(open('add_styles.py').read(), {'PROPERTY_PREFIX': 'je'})\n",
    "exec(open('add_styles.py').read(), {'PROPERTY_PREFIX': 'lord'})"
   ]
  },
  {
   "cell_type": "code",
   "execution_count": null,
   "metadata": {},
   "outputs": [],
   "source": [
    "#    add links to LOD with DTLtoLJpeople.py\n",
    "exec(open('DTLtoLJpeople.py').read(), {'PROPERTY_PREFIX': 'je'})\n",
    "exec(open('DTLtoLJpeople.py').read(), {'PROPERTY_PREFIX': 'lord'})"
   ]
  },
  {
   "cell_type": "code",
   "execution_count": null,
   "metadata": {},
   "outputs": [],
   "source": [
    "#    merge JE and ILL repositories with merging.py. Musicians, Bands, Tunes and Instruments are merged by name/title. Sessions and performances are not merged since they do not overlap between JE and ILL. Merging is not necessary for the interface to work, just combining the two files would suffice.\n",
    "%run merging"
   ]
  },
  {
   "cell_type": "code",
   "execution_count": null,
   "metadata": {},
   "outputs": [],
   "source": [
    "#    patch metadata to resolve missing solo performers with patch_metadata.py.\n",
    "%run patch_metadata"
   ]
  },
  {
   "cell_type": "code",
   "execution_count": null,
   "metadata": {},
   "outputs": [],
   "source": [
    "#    dtl1000.py extracts the relevant triples from a merged \"100 years of jazz\" turtle file\n",
    "%run dtl1000.py"
   ]
  }
 ],
 "metadata": {
  "kernelspec": {
   "display_name": "Python 3",
   "language": "python",
   "name": "python3"
  },
  "language_info": {
   "codemirror_mode": {
    "name": "ipython",
    "version": 3
   },
   "file_extension": ".py",
   "mimetype": "text/x-python",
   "name": "python",
   "nbconvert_exporter": "python",
   "pygments_lexer": "ipython3",
   "version": "3.8.10"
  }
 },
 "nbformat": 4,
 "nbformat_minor": 4
}
